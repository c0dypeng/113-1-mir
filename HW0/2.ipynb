{
 "cells": [
  {
   "cell_type": "markdown",
   "id": "d3e51f0e",
   "metadata": {},
   "source": [
    "### Task2: Traditional ML Model\n",
    "\n",
    "- Train a traditional ML model (e.g. k-NN, SVM, random forest) with any features\n",
    "extracted from the audio\n",
    "\n",
    "- Need to report how to implement the model clearly\n",
    "\n",
    "- Need to report the testing result (not validation result) with confusion matrix,\n",
    "top1 accuracy, and top3 accuracy\n",
    "\n",
    "- Remember to utilize standardization (e.g. mean, std), pooling and normalization\n",
    "to ensure consistent feature scales, reducing overfitting, and improving model\n",
    "stability and performance during training"
   ]
  },
  {
   "cell_type": "code",
   "execution_count": 1,
   "id": "596aba4a",
   "metadata": {},
   "outputs": [],
   "source": [
    "import sklearn\n",
    "import numpy as np\n",
    "import os\n",
    "import json\n",
    "import librosa\n",
    "import torchaudio"
   ]
  },
  {
   "cell_type": "code",
   "execution_count": null,
   "id": "db58b348",
   "metadata": {},
   "outputs": [],
   "source": []
  }
 ],
 "metadata": {
  "kernelspec": {
   "display_name": "base",
   "language": "python",
   "name": "python3"
  },
  "language_info": {
   "codemirror_mode": {
    "name": "ipython",
    "version": 3
   },
   "file_extension": ".py",
   "mimetype": "text/x-python",
   "name": "python",
   "nbconvert_exporter": "python",
   "pygments_lexer": "ipython3",
   "version": "3.12.4"
  }
 },
 "nbformat": 4,
 "nbformat_minor": 5
}
